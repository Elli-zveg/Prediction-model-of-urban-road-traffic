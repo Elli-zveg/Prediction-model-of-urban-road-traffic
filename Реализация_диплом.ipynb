{
  "nbformat": 4,
  "nbformat_minor": 0,
  "metadata": {
    "colab": {
      "name": "Реализация_диплом.ipynb",
      "provenance": []
    },
    "kernelspec": {
      "name": "python3",
      "display_name": "Python 3"
    },
    "language_info": {
      "name": "python"
    }
  },
  "cells": [
    {
      "cell_type": "code",
      "execution_count": null,
      "metadata": {
        "id": "CkzUBo38KCtd"
      },
      "outputs": [],
      "source": [
        "import numpy as np\n",
        "import pandas as pd\n",
        "import matplotlib.pyplot as plt\n",
        "%matplotlib inline\n",
        "from IPython.core.interactiveshell import InteractiveShell\n",
        "InteractiveShell.ast_node_interactivity = \"all\"\n",
        "\n",
        "import seaborn as sns # Для графиков\n",
        "\n",
        "import sklearn # Для стандартизации\n",
        "from sklearn import preprocessing\n",
        "\n",
        "import pandas\n",
        "import tensorflow\n",
        "from tensorflow import keras\n",
        "from tensorflow.keras.layers import Dense\n",
        "from tensorflow.keras.models import Sequential\n",
        "from tensorflow.keras.utils import to_categorical\n",
        "from sklearn.preprocessing import LabelEncoder\n",
        "from tensorflow.keras.models import load_model\n",
        "import matplotlib.pyplot as plt\n",
        "import numpy as np"
      ]
    },
    {
      "cell_type": "code",
      "source": [
        "#dataf = pd.read_csv('drive/MyDrive/code/df_MinMax.csv', header = 0)\n",
        "#dataf = dataf.drop(columns = [\"Volume\", 'Hour'])\n",
        "#dataset = dataf.values\n",
        "#dataf1 = pd.read_csv('drive/MyDrive/code/result_second.csv', header = 0)\n",
        "#dataf1 = dataf1.drop(columns = [\"Volume\"])\n",
        "#dataset1 = dataf1.values\n",
        "#dataset"
      ],
      "metadata": {
        "id": "fCnjVqqiW1bE"
      },
      "execution_count": null,
      "outputs": []
    },
    {
      "cell_type": "code",
      "source": [
        "dataf = pd.read_csv('drive/MyDrive/code/df.csv', header = 0)\n",
        "dataf = dataf.loc[((dataf['Month']!=12)|(dataf['Day']!=31)|(dataf['Day of Week']!=0))]\n",
        "\n",
        "dataset = dataf.values\n",
        "dataset"
      ],
      "metadata": {
        "colab": {
          "base_uri": "https://localhost:8080/"
        },
        "id": "LCt3s3sAFfky",
        "outputId": "e29cf164-fd1a-4426-8151-7b89ed40e540"
      },
      "execution_count": null,
      "outputs": [
        {
          "output_type": "execute_result",
          "data": {
            "text/plain": [
              "array([[ 1.   ,  1.   ,  0.   ,  1.   ,  1.25 ],\n",
              "       [ 1.   ,  1.   ,  0.   ,  2.   ,  1.75 ],\n",
              "       [ 1.   ,  1.   ,  1.   ,  1.   ,  1.125],\n",
              "       ...,\n",
              "       [12.   , 31.   , 21.   ,  1.   ,  5.375],\n",
              "       [12.   , 31.   , 22.   ,  1.   ,  4.5  ],\n",
              "       [12.   , 31.   , 23.   ,  1.   ,  2.625]])"
            ]
          },
          "metadata": {},
          "execution_count": 2
        }
      ]
    },
    {
      "cell_type": "code",
      "source": [
        "\n",
        "dataf = pd.read_csv('drive/MyDrive/code/data_15.csv', header = 0)\n",
        "#dataf = dataf.loc[((dataf['Month']!=12)|(dataf['Day']!=31)|(dataf['Day of Week']!=0))]\n",
        "\n",
        "dataset = dataf.values\n",
        "dataset"
      ],
      "metadata": {
        "colab": {
          "base_uri": "https://localhost:8080/"
        },
        "id": "NHVxFsLIhzYl",
        "outputId": "c8195011-3dc8-44ea-8af8-d3bdb652b2c3"
      },
      "execution_count": null,
      "outputs": [
        {
          "output_type": "execute_result",
          "data": {
            "text/plain": [
              "array([[ 1.   ,  1.   ,  0.   ,  1.   ,  1.25 ],\n",
              "       [ 1.   ,  1.   ,  0.   ,  2.   ,  1.75 ],\n",
              "       [ 1.   ,  1.   ,  1.   ,  1.   ,  1.125],\n",
              "       ...,\n",
              "       [12.   , 31.   , 21.   ,  1.   ,  3.75 ],\n",
              "       [12.   , 31.   , 22.   ,  1.   ,  3.625],\n",
              "       [12.   , 31.   , 23.   ,  1.   ,  5.625]])"
            ]
          },
          "metadata": {},
          "execution_count": 4
        }
      ]
    },
    {
      "cell_type": "code",
      "source": [
        "X = dataset[:, 0:4]\n",
        "Y = dataset[:, 4]\n",
        "\n",
        "X1 = np.ones((X.shape[0]-5, 5, 5))\n",
        "for i in range (5, len(dataset)):\n",
        "  X1[i-5] = dataset[i-5:i, :]\n",
        "Y1 = dataset[5:, 4]\n",
        "\n",
        "X1 \n",
        "\n",
        "\n"
      ],
      "metadata": {
        "id": "nSjrHjVuW3ai",
        "colab": {
          "base_uri": "https://localhost:8080/"
        },
        "outputId": "cc356594-01dd-498e-a03a-f222a9d90dfe"
      },
      "execution_count": null,
      "outputs": [
        {
          "output_type": "execute_result",
          "data": {
            "text/plain": [
              "array([[[ 1.   ,  1.   ,  0.   ,  1.   ,  1.25 ],\n",
              "        [ 1.   ,  1.   ,  0.   ,  2.   ,  1.75 ],\n",
              "        [ 1.   ,  1.   ,  1.   ,  1.   ,  1.125],\n",
              "        [ 1.   ,  1.   ,  1.   ,  2.   ,  2.125],\n",
              "        [ 1.   ,  1.   ,  2.   ,  1.   ,  1.5  ]],\n",
              "\n",
              "       [[ 1.   ,  1.   ,  0.   ,  2.   ,  1.75 ],\n",
              "        [ 1.   ,  1.   ,  1.   ,  1.   ,  1.125],\n",
              "        [ 1.   ,  1.   ,  1.   ,  2.   ,  2.125],\n",
              "        [ 1.   ,  1.   ,  2.   ,  1.   ,  1.5  ],\n",
              "        [ 1.   ,  1.   ,  2.   ,  2.   ,  1.75 ]],\n",
              "\n",
              "       [[ 1.   ,  1.   ,  1.   ,  1.   ,  1.125],\n",
              "        [ 1.   ,  1.   ,  1.   ,  2.   ,  2.125],\n",
              "        [ 1.   ,  1.   ,  2.   ,  1.   ,  1.5  ],\n",
              "        [ 1.   ,  1.   ,  2.   ,  2.   ,  1.75 ],\n",
              "        [ 1.   ,  1.   ,  3.   ,  1.   ,  0.875]],\n",
              "\n",
              "       ...,\n",
              "\n",
              "       [[12.   , 31.   , 16.   ,  1.   ,  7.625],\n",
              "        [12.   , 31.   , 17.   ,  1.   ,  6.375],\n",
              "        [12.   , 31.   , 18.   ,  1.   ,  5.125],\n",
              "        [12.   , 31.   , 19.   ,  1.   ,  4.25 ],\n",
              "        [12.   , 31.   , 20.   ,  1.   ,  4.125]],\n",
              "\n",
              "       [[12.   , 31.   , 17.   ,  1.   ,  6.375],\n",
              "        [12.   , 31.   , 18.   ,  1.   ,  5.125],\n",
              "        [12.   , 31.   , 19.   ,  1.   ,  4.25 ],\n",
              "        [12.   , 31.   , 20.   ,  1.   ,  4.125],\n",
              "        [12.   , 31.   , 21.   ,  1.   ,  3.75 ]],\n",
              "\n",
              "       [[12.   , 31.   , 18.   ,  1.   ,  5.125],\n",
              "        [12.   , 31.   , 19.   ,  1.   ,  4.25 ],\n",
              "        [12.   , 31.   , 20.   ,  1.   ,  4.125],\n",
              "        [12.   , 31.   , 21.   ,  1.   ,  3.75 ],\n",
              "        [12.   , 31.   , 22.   ,  1.   ,  3.625]]])"
            ]
          },
          "metadata": {},
          "execution_count": 5
        }
      ]
    },
    {
      "cell_type": "code",
      "source": [
        "V= dataset[-48:]\n",
        "V"
      ],
      "metadata": {
        "colab": {
          "base_uri": "https://localhost:8080/",
          "height": 222
        },
        "id": "nGZgN63YCCiv",
        "outputId": "99988ce4-4846-4409-d2f1-5225317cf0c1"
      },
      "execution_count": null,
      "outputs": [
        {
          "output_type": "error",
          "ename": "NameError",
          "evalue": "ignored",
          "traceback": [
            "\u001b[0;31m---------------------------------------------------------------------------\u001b[0m",
            "\u001b[0;31mNameError\u001b[0m                                 Traceback (most recent call last)",
            "\u001b[0;32m<ipython-input-1-6463a1e85a02>\u001b[0m in \u001b[0;36m<module>\u001b[0;34m()\u001b[0m\n\u001b[0;32m----> 1\u001b[0;31m \u001b[0mV\u001b[0m\u001b[0;34m=\u001b[0m \u001b[0mdataset\u001b[0m\u001b[0;34m[\u001b[0m\u001b[0;34m-\u001b[0m\u001b[0;36m48\u001b[0m\u001b[0;34m:\u001b[0m\u001b[0;34m]\u001b[0m\u001b[0;34m\u001b[0m\u001b[0;34m\u001b[0m\u001b[0m\n\u001b[0m\u001b[1;32m      2\u001b[0m \u001b[0mV\u001b[0m\u001b[0;34m\u001b[0m\u001b[0;34m\u001b[0m\u001b[0m\n",
            "\u001b[0;31mNameError\u001b[0m: name 'dataset' is not defined"
          ]
        }
      ]
    },
    {
      "cell_type": "code",
      "source": [
        "from sklearn.model_selection import train_test_split, ShuffleSplit\n",
        "from tensorflow.keras.layers import Dense, Dropout, LSTM\n",
        "from tensorflow.keras.models import Sequential\n",
        "from sklearn.preprocessing import LabelEncoder"
      ],
      "metadata": {
        "id": "kUGPFiRzV4Mi"
      },
      "execution_count": null,
      "outputs": []
    },
    {
      "cell_type": "code",
      "source": [
        "from keras import backend as K"
      ],
      "metadata": {
        "id": "Ho-N8Vz7-MTa"
      },
      "execution_count": null,
      "outputs": []
    },
    {
      "cell_type": "code",
      "source": [
        "from sklearn.metrics import mean_squared_error, mean_absolute_error,mean_absolute_percentage_error, r2_score\n"
      ],
      "metadata": {
        "id": "Pi8MoSD5ASf_"
      },
      "execution_count": null,
      "outputs": []
    },
    {
      "cell_type": "code",
      "source": [
        "from tensorflow import convert_to_tensor"
      ],
      "metadata": {
        "id": "0JNlF5if_SlO"
      },
      "execution_count": null,
      "outputs": []
    },
    {
      "cell_type": "code",
      "source": [
        "def r_sqrt (species, predictions):\n",
        "  q1 = K.sum(K.square(species - predictions))\n",
        "  q2 = K.sum(K.square(species - K.mean(convert_to_tensor(species))))\n",
        "  return 1 - q1 / (q2 + K.epsilon())\n"
      ],
      "metadata": {
        "id": "CMqwdha0nhUX"
      },
      "execution_count": null,
      "outputs": []
    },
    {
      "cell_type": "markdown",
      "source": [
        "Для денормализации загруженности"
      ],
      "metadata": {
        "id": "v6C2VQvjHJFq"
      }
    },
    {
      "cell_type": "code",
      "source": [
        "max = 45.875\n",
        "min = 0"
      ],
      "metadata": {
        "id": "ms6wIP7jHIY4"
      },
      "execution_count": null,
      "outputs": []
    },
    {
      "cell_type": "markdown",
      "source": [
        "Метрики проверки"
      ],
      "metadata": {
        "id": "55ARBRrtGvOG"
      }
    },
    {
      "cell_type": "code",
      "source": [
        "def metrics_ (species, predictions):\n",
        "  mse = mean_squared_error(species, predictions)\n",
        "  mae = mean_absolute_error(species, predictions)\n",
        "  determination_coefficient = r2_score(species, predictions)\n",
        "  print(\"MSE:\", mse)\n",
        "  print(\"MAE:\", mae)\n",
        "  print(\"Determination coefficient:\", determination_coefficient)"
      ],
      "metadata": {
        "id": "8rMuJWBEBx8o"
      },
      "execution_count": null,
      "outputs": []
    },
    {
      "cell_type": "code",
      "source": [
        "\n",
        "def build_model():\n",
        "    model = Sequential()\n",
        "    model.add(Dense(500, activation='relu'))\n",
        "    model.add(Dense(128, activation='relu'))\n",
        "    model.add(Dense(64, activation='relu'))\n",
        "    model.add(Dense(32, activation='relu'))\n",
        "    model.add(Dense(1, activation=\"relu\"))\n",
        "    model.compile(optimizer='Adam', loss='mse')\n",
        "    return model\n",
        "\n",
        "def build_model_1():\n",
        "    model = Sequential()\n",
        "    model.add(LSTM(500, activation='relu', input_shape = \n",
        "                   (5,5), return_sequences= True))\n",
        "    model.add(LSTM(64, activation='relu'))\n",
        "    model.add(Dropout(0.2))\n",
        "    model.add(Dense(64, activation='relu'))\n",
        "    model.add(Dense(1, activation=\"relu\"))\n",
        "    model.compile(optimizer='adam', loss='mse')\n",
        "    return model\n",
        "\n",
        "def train_model(X, Y, model):\n",
        "    train_x, test_x, train_y, test_y = train_test_split(X, Y, test_size=0.1,\n",
        "                                                        random_state=42)\n",
        "    model = build_model()\n",
        "    history = model.fit(train_x, train_y, epochs=1, batch_size=8,\n",
        "                        validation_data=(test_x, test_y))\n",
        "    return history\n",
        "\n",
        "\n",
        "def create_graphics(history):\n",
        "    history_dict = history.history\n",
        "    loss_values = history_dict['loss']\n",
        "    val_loss_values = history_dict['val_loss']\n",
        "    epochs = range(1, len(loss_values) + 1)\n",
        "    plt.plot(epochs, loss_values, 'bo', label='Training loss')\n",
        "    plt.plot(epochs, val_loss_values, 'b', label='Validation loss')\n",
        "    plt.title('Training and validation loss')\n",
        "    plt.xlabel('Epochs')\n",
        "    plt.ylabel('Loss')\n",
        "    plt.legend()\n",
        "    plt.show()\n",
        "\n",
        "\n",
        "    "
      ],
      "metadata": {
        "id": "lcDf5QqGONUu"
      },
      "execution_count": null,
      "outputs": []
    },
    {
      "cell_type": "markdown",
      "source": [
        "Линейная регрессия"
      ],
      "metadata": {
        "id": "Ea-mYMcBGzjk"
      }
    },
    {
      "cell_type": "code",
      "source": [
        "from sklearn.linear_model import LinearRegression\n",
        "\n",
        "model = LinearRegression()\n",
        "train_x, test_x, train_y, test_y = train_test_split(X, Y, test_size=0.3, random_state=42)#\n",
        "# Обучаем на тренировочных данных\n",
        "model.fit(train_x, train_y)\n",
        "# Действующая классификация\n",
        "rf_predictions = model.predict(test_x)\n",
        "\n",
        "species = np.array(test_y) #исходные\n",
        "predictions = np.array(rf_predictions) #предсказания\n",
        "#print(\"\\nTEST_Y\\n\", species)\n",
        "#print(\"\\nPREDICTIONS\\n\", predictions)\n",
        "\n",
        "metrics_ (species, predictions)\n",
        "\n",
        "#predictions = predictions*(max-min) + min\n",
        "#species = species*(max-min) + min\n",
        "\n",
        "metrics_ (species, predictions)\n",
        "\n",
        "ver = abs(predictions - species)\n",
        "lenght = len(ver)\n",
        "\n",
        "count = 0\n",
        "for i in ver:\n",
        "    if i <= 3:\n",
        "        count = count + 1\n",
        "\n",
        "print(count, lenght)\n",
        "print(count / lenght)\n",
        "#create_graphics(history)"
      ],
      "metadata": {
        "colab": {
          "base_uri": "https://localhost:8080/"
        },
        "id": "-DUMOsFoXc8J",
        "outputId": "e40bdcfe-d416-4631-d087-a73d96ab7a00"
      },
      "execution_count": null,
      "outputs": [
        {
          "output_type": "execute_result",
          "data": {
            "text/plain": [
              "LinearRegression()"
            ]
          },
          "metadata": {},
          "execution_count": 11
        },
        {
          "output_type": "stream",
          "name": "stdout",
          "text": [
            "MSE: 44.21900890152723\n",
            "MAE: 4.405558130853496\n",
            "Determination coefficient: 0.08341829323549177\n",
            "MSE: 44.21900890152723\n",
            "MAE: 4.405558130853496\n",
            "Determination coefficient: 0.08341829323549177\n",
            "3325 6905\n",
            "0.48153511947863864\n"
          ]
        }
      ]
    },
    {
      "cell_type": "markdown",
      "source": [
        "NN"
      ],
      "metadata": {
        "id": "ocNlqmeBHdYD"
      }
    },
    {
      "cell_type": "code",
      "source": [
        "train_x, test_x, train_y, test_y = train_test_split(X, Y, test_size=0.3,\n",
        "                                                        random_state=42)\n",
        "\n",
        "model = build_model()\n",
        "history = model.fit(train_x, train_y, epochs=20, batch_size=20,\n",
        "                        validation_data=(test_x, test_y))\n",
        "rf_predictions = model.predict(test_x)\n",
        "#print(\"\\n\", rf_predictions, \"\\n\")\n",
        "\n",
        "species = np.array(test_y)\n",
        "#print(\"\\nTEST_Y\\n\", species)\n",
        "predictions = np.array(rf_predictions)\n",
        "#print(\"\\nPREDICTIONS\\n\", predictions)\n",
        "lenght = len(predictions)\n",
        "pred = np.array(predictions.reshape(lenght))\n",
        "\n",
        "metrics_ (species, pred)\n",
        "#print(\"\\nPRED\\n\",pred)\n",
        "print(range(lenght))\n",
        "\n",
        "#pred= pred*(max-min) + min\n",
        "#species = species*(max-min) + min\n",
        "#для species аналогично\n",
        "metrics_ (species, pred)\n",
        "#r_sqrt (species, pred)\n",
        "ver = abs(pred - species) #\n",
        "\n",
        "count = 0\n",
        "for i in ver:\n",
        "    if i <= 5:#подкорректировать под значения\n",
        "        count = count + 1\n",
        "\n",
        "print(count, lenght)\n",
        "print(count / lenght)\n",
        "create_graphics(history)\n",
        "\n",
        "#коэффициент детерминации!!! выше чем 0.6 - гуд\n",
        "#mae??"
      ],
      "metadata": {
        "colab": {
          "base_uri": "https://localhost:8080/",
          "height": 1000
        },
        "id": "xpdMLPI-HUge",
        "outputId": "8c02e975-1328-46e8-9633-8bfce3b2041d"
      },
      "execution_count": null,
      "outputs": [
        {
          "output_type": "stream",
          "name": "stdout",
          "text": [
            "Epoch 1/20\n",
            "806/806 [==============================] - 4s 4ms/step - loss: 38.2594 - val_loss: 36.4123\n",
            "Epoch 2/20\n",
            "806/806 [==============================] - 3s 4ms/step - loss: 34.6262 - val_loss: 33.6835\n",
            "Epoch 3/20\n",
            "806/806 [==============================] - 3s 3ms/step - loss: 32.5825 - val_loss: 32.9400\n",
            "Epoch 4/20\n",
            "806/806 [==============================] - 3s 4ms/step - loss: 30.3521 - val_loss: 27.3355\n",
            "Epoch 5/20\n",
            "806/806 [==============================] - 3s 4ms/step - loss: 27.4078 - val_loss: 30.6116\n",
            "Epoch 6/20\n",
            "806/806 [==============================] - 3s 4ms/step - loss: 25.5181 - val_loss: 24.4138\n",
            "Epoch 7/20\n",
            "806/806 [==============================] - 3s 4ms/step - loss: 24.4424 - val_loss: 25.9628\n",
            "Epoch 8/20\n",
            "806/806 [==============================] - 3s 4ms/step - loss: 22.8008 - val_loss: 23.7363\n",
            "Epoch 9/20\n",
            "806/806 [==============================] - 3s 4ms/step - loss: 22.0517 - val_loss: 21.5752\n",
            "Epoch 10/20\n",
            "806/806 [==============================] - 3s 4ms/step - loss: 21.5225 - val_loss: 23.7425\n",
            "Epoch 11/20\n",
            "806/806 [==============================] - 3s 4ms/step - loss: 21.1174 - val_loss: 20.4857\n",
            "Epoch 12/20\n",
            "806/806 [==============================] - 3s 4ms/step - loss: 20.9946 - val_loss: 23.9859\n",
            "Epoch 13/20\n",
            "806/806 [==============================] - 3s 4ms/step - loss: 20.7412 - val_loss: 20.1837\n",
            "Epoch 14/20\n",
            "806/806 [==============================] - 3s 4ms/step - loss: 20.4818 - val_loss: 21.3662\n",
            "Epoch 15/20\n",
            "806/806 [==============================] - 4s 5ms/step - loss: 20.2277 - val_loss: 18.8172\n",
            "Epoch 16/20\n",
            "806/806 [==============================] - 3s 4ms/step - loss: 20.0184 - val_loss: 18.7077\n",
            "Epoch 17/20\n",
            "806/806 [==============================] - 3s 4ms/step - loss: 19.5469 - val_loss: 38.2475\n",
            "Epoch 18/20\n",
            "806/806 [==============================] - 3s 4ms/step - loss: 20.5477 - val_loss: 19.2907\n",
            "Epoch 19/20\n",
            "806/806 [==============================] - 3s 4ms/step - loss: 19.8526 - val_loss: 19.7095\n",
            "Epoch 20/20\n",
            "806/806 [==============================] - 3s 4ms/step - loss: 19.8016 - val_loss: 20.0450\n",
            "MSE: 20.045015608115328\n",
            "MAE: 2.5260043167943245\n",
            "Determination coefficient: 0.5845023424400407\n",
            "range(0, 6905)\n",
            "MSE: 20.045015608115328\n",
            "MAE: 2.5260043167943245\n",
            "Determination coefficient: 0.5845023424400407\n",
            "5837 6905\n",
            "0.845329471397538\n"
          ]
        },
        {
          "output_type": "display_data",
          "data": {
            "text/plain": [
              "<Figure size 432x288 with 1 Axes>"
            ],
            "image/png": "[encoded data removed]"
          },
          "metadata": {
            "needs_background": "light"
          }
        }
      ]
    },
    {
      "cell_type": "code",
      "source": [
        "pred"
      ],
      "metadata": {
        "colab": {
          "base_uri": "https://localhost:8080/"
        },
        "id": "jl47RMRPKGBy",
        "outputId": "d06d40a9-049a-4d51-e422-0e23db75c814"
      },
      "execution_count": null,
      "outputs": [
        {
          "output_type": "execute_result",
          "data": {
            "text/plain": [
              "array([ 5.523174 ,  1.993408 ,  0.       , ...,  6.0294733, 12.764126 ,\n",
              "        5.7394805], dtype=float32)"
            ]
          },
          "metadata": {},
          "execution_count": 53
        }
      ]
    },
    {
      "cell_type": "code",
      "source": [
        "S = dataf.drop(labels)\n",
        "S\n"
      ],
      "metadata": {
        "colab": {
          "base_uri": "https://localhost:8080/",
          "height": 222
        },
        "id": "zd6jr0JUi6Fy",
        "outputId": "6abb45ae-4bc6-4ecf-83f2-12ee4a8cc92f"
      },
      "execution_count": null,
      "outputs": [
        {
          "output_type": "error",
          "ename": "NameError",
          "evalue": "ignored",
          "traceback": [
            "\u001b[0;31m---------------------------------------------------------------------------\u001b[0m",
            "\u001b[0;31mNameError\u001b[0m                                 Traceback (most recent call last)",
            "\u001b[0;32m<ipython-input-19-b8634a8ec803>\u001b[0m in \u001b[0;36m<module>\u001b[0;34m()\u001b[0m\n\u001b[0;32m----> 1\u001b[0;31m \u001b[0mS\u001b[0m \u001b[0;34m=\u001b[0m \u001b[0mdataf\u001b[0m\u001b[0;34m.\u001b[0m\u001b[0mdrop\u001b[0m\u001b[0;34m(\u001b[0m\u001b[0mlabels\u001b[0m\u001b[0;34m>=\u001b[0m\u001b[0;36m29\u001b[0m\u001b[0;34m)\u001b[0m\u001b[0;34m\u001b[0m\u001b[0;34m\u001b[0m\u001b[0m\n\u001b[0m\u001b[1;32m      2\u001b[0m \u001b[0mS\u001b[0m\u001b[0;34m\u001b[0m\u001b[0;34m\u001b[0m\u001b[0m\n",
            "\u001b[0;31mNameError\u001b[0m: name 'labels' is not defined"
          ]
        }
      ]
    },
    {
      "cell_type": "code",
      "source": [
        "PRED = dataset[-24:,:4]#.reshape((24,4))\n",
        "S = dataset[-24:,4]\n",
        "S\n",
        "PRED.shape\n",
        "pp = model.predict(PRED)\n",
        "for i in range(1,len(pp)):\n",
        "   print(pp[i])"
      ],
      "metadata": {
        "colab": {
          "base_uri": "https://localhost:8080/"
        },
        "id": "6I14iwykH-q4",
        "outputId": "4b125803-6652-4ba9-da3a-93f09445faa4"
      },
      "execution_count": null,
      "outputs": [
        {
          "output_type": "execute_result",
          "data": {
            "text/plain": [
              "array([1.   , 0.375, 0.   , 0.   , 0.   , 0.   , 0.   , 0.125, 0.25 ,\n",
              "       1.   , 2.25 , 4.   , 4.625, 6.25 , 5.125, 4.5  , 5.25 , 5.25 ,\n",
              "       5.   , 5.5  , 4.875, 4.875, 4.   , 2.875])"
            ]
          },
          "metadata": {},
          "execution_count": 66
        },
        {
          "output_type": "execute_result",
          "data": {
            "text/plain": [
              "(24, 4)"
            ]
          },
          "metadata": {},
          "execution_count": 66
        },
        {
          "output_type": "stream",
          "name": "stdout",
          "text": [
            "[0.]\n",
            "[0.]\n",
            "[0.]\n",
            "[0.]\n",
            "[0.]\n",
            "[0.]\n",
            "[0.]\n",
            "[0.8402582]\n",
            "[1.878922]\n",
            "[3.3000882]\n",
            "[4.7540603]\n",
            "[5.9028134]\n",
            "[6.3438754]\n",
            "[6.2085395]\n",
            "[6.061539]\n",
            "[5.7897034]\n",
            "[5.5396733]\n",
            "[5.309243]\n",
            "[5.010112]\n",
            "[4.5880494]\n",
            "[4.0146513]\n",
            "[3.121804]\n",
            "[2.201377]\n"
          ]
        }
      ]
    },
    {
      "cell_type": "code",
      "source": [
        "p = np.array([[12, 1 , 3, 5], [12, 1 , 3, 5]]).reshape(((2, 4)))\n",
        "model.predict(p)"
      ],
      "metadata": {
        "colab": {
          "base_uri": "https://localhost:8080/"
        },
        "id": "uRS-CHMhCrRt",
        "outputId": "9fb05560-ff8c-409d-8054-5441509ab785"
      },
      "execution_count": null,
      "outputs": [
        {
          "output_type": "execute_result",
          "data": {
            "text/plain": [
              "array([[0.],\n",
              "       [0.]], dtype=float32)"
            ]
          },
          "metadata": {},
          "execution_count": 32
        }
      ]
    },
    {
      "cell_type": "markdown",
      "source": [
        "RNN"
      ],
      "metadata": {
        "id": "w42IzBawHcn-"
      }
    },
    {
      "cell_type": "code",
      "source": [
        "train_x, test_x, train_y, test_y = train_test_split(X1, Y1, test_size=0.3,\n",
        "                                                        random_state=42)\n",
        "\n",
        "model = build_model_1()\n",
        "history = model.fit(train_x, train_y, epochs=20, batch_size=20,\n",
        "                        validation_data=(test_x, test_y))\n",
        "rf_predictions = model.predict(test_x)\n",
        "#print(\"\\n\", rf_predictions, \"\\n\")\n",
        "\n",
        "species = np.array(test_y)\n",
        "#print(\"\\nTEST_Y\\n\", species)\n",
        "predictions = np.array(rf_predictions)\n",
        "#print(\"\\nPREDICTIONS\\n\", predictions)\n",
        "lenght = len(predictions)\n",
        "pred = np.array(predictions.reshape(lenght))\n",
        "\n",
        "metrics_ (species, pred)\n",
        "#print(\"\\nPRED\\n\",pred)\n",
        "print(range(lenght))\n",
        "\n",
        "#pred= pred*(max-min) + min\n",
        "#species = species*(max-min) + min\n",
        "\n",
        "metrics_ (species, pred)\n",
        "#r_sqrt (species, pred)\n",
        "ver = abs(pred - species) #\n",
        "\n",
        "count = 0\n",
        "for i in ver:\n",
        "    if i <= 3:\n",
        "        count = count + 1\n",
        "\n",
        "print(count, lenght)\n",
        "print(count / lenght)\n",
        "create_graphics(history)\n",
        "#коэффициент детерминации!!! выше чем 0.6 - гуд\n",
        "#mae??"
      ],
      "metadata": {
        "colab": {
          "base_uri": "https://localhost:8080/",
          "height": 1000
        },
        "id": "Es4y5FwGWArb",
        "outputId": "4682d3fc-a2de-438b-da89-b7fd64b208ff"
      },
      "execution_count": null,
      "outputs": [
        {
          "output_type": "stream",
          "name": "stdout",
          "text": [
            "Epoch 1/20\n",
            "119/119 [==============================] - 11s 69ms/step - loss: 7.9592 - val_loss: 3.2217\n",
            "Epoch 2/20\n",
            "119/119 [==============================] - 7s 62ms/step - loss: 5.1785 - val_loss: 2.6715\n",
            "Epoch 3/20\n",
            "119/119 [==============================] - 7s 63ms/step - loss: 4.8914 - val_loss: 2.7390\n",
            "Epoch 4/20\n",
            "119/119 [==============================] - 8s 65ms/step - loss: 4.4531 - val_loss: 2.6564\n",
            "Epoch 5/20\n",
            "119/119 [==============================] - 7s 60ms/step - loss: 3.9946 - val_loss: 2.6120\n",
            "Epoch 6/20\n",
            "119/119 [==============================] - 8s 64ms/step - loss: 3.7705 - val_loss: 2.8046\n",
            "Epoch 7/20\n",
            "119/119 [==============================] - 8s 68ms/step - loss: 3.4965 - val_loss: 2.5911\n",
            "Epoch 8/20\n",
            "119/119 [==============================] - 8s 66ms/step - loss: 3.8048 - val_loss: 2.3443\n",
            "Epoch 9/20\n",
            "119/119 [==============================] - 8s 70ms/step - loss: 3.8776 - val_loss: 2.3578\n",
            "Epoch 10/20\n",
            "119/119 [==============================] - 8s 67ms/step - loss: 3.1667 - val_loss: 2.7521\n",
            "Epoch 11/20\n",
            "119/119 [==============================] - 8s 65ms/step - loss: 3.3113 - val_loss: 2.4559\n",
            "Epoch 12/20\n",
            "119/119 [==============================] - 8s 67ms/step - loss: 3.2812 - val_loss: 4.8391\n",
            "Epoch 13/20\n",
            "119/119 [==============================] - 8s 69ms/step - loss: 3.5191 - val_loss: 2.4669\n",
            "Epoch 14/20\n",
            "119/119 [==============================] - 8s 65ms/step - loss: 3.1220 - val_loss: 3.1369\n",
            "Epoch 15/20\n",
            "119/119 [==============================] - 8s 69ms/step - loss: 3.4624 - val_loss: 3.0146\n",
            "Epoch 16/20\n",
            "119/119 [==============================] - 8s 69ms/step - loss: 3.1275 - val_loss: 2.4733\n",
            "Epoch 17/20\n",
            "119/119 [==============================] - 8s 68ms/step - loss: 3.0830 - val_loss: 2.2119\n",
            "Epoch 18/20\n",
            "119/119 [==============================] - 8s 67ms/step - loss: 2.9454 - val_loss: 2.4890\n",
            "Epoch 19/20\n",
            "119/119 [==============================] - 8s 66ms/step - loss: 2.9741 - val_loss: 2.4585\n",
            "Epoch 20/20\n",
            "119/119 [==============================] - 8s 68ms/step - loss: 2.6580 - val_loss: 2.5966\n",
            "MSE: 2.5965780722442187\n",
            "MAE: 0.7994282250656924\n",
            "Determination coefficient: 0.7871627275201418\n",
            "range(0, 1014)\n",
            "MSE: 2.5965780722442187\n",
            "MAE: 0.7994282250656924\n",
            "Determination coefficient: 0.7871627275201418\n",
            "985 1014\n",
            "0.9714003944773175\n"
          ]
        },
        {
          "output_type": "display_data",
          "data": {
            "text/plain": [
              "<Figure size 432x288 with 1 Axes>"
            ],
            "image/png": "[encoded data removed]"
          },
          "metadata": {
            "needs_background": "light"
          }
        },
        {
          "output_type": "stream",
          "name": "stdout",
          "text": [
            "dict_keys(['loss', 'val_loss'])\n"
          ]
        },
        {
          "output_type": "stream",
          "name": "stderr",
          "text": [
            "No handles with labels found to put in legend.\n"
          ]
        },
        {
          "output_type": "display_data",
          "data": {
            "text/plain": [
              "<Figure size 432x288 with 1 Axes>"
            ],
            "image/png": "[encoded data removed]"
          },
          "metadata": {
            "needs_background": "light"
          }
        }
      ]
    },
    {
      "cell_type": "code",
      "source": [
        "#model.save('drive/MyDrive/code/RNN_pr821_r66.h5')"
      ],
      "metadata": {
        "id": "XenWfuti1zYL"
      },
      "execution_count": null,
      "outputs": []
    },
    {
      "cell_type": "code",
      "source": [
        "#model = keras.models.load_model('drive/MyDrive/code/q.h5')"
      ],
      "metadata": {
        "id": "y-PYJn522Nif"
      },
      "execution_count": null,
      "outputs": []
    },
    {
      "cell_type": "code",
      "source": [
        "S = dataf [-24:]\n",
        "S[\"KITS ID\"] = [15, 15,15,15,15,15,15, 15,15,15,15,15,15, 15,15,15,15,15,15, 15,15,15,15,15]\n",
        "S\n",
        "S.to_csv('drive/MyDrive/code/KG_base.csv', index=False)\n"
      ],
      "metadata": {
        "colab": {
          "base_uri": "https://localhost:8080/",
          "height": 929
        },
        "id": "FhkBoDH_5H1v",
        "outputId": "2ec97fab-17db-40c1-d717-70913eed24aa"
      },
      "execution_count": null,
      "outputs": [
        {
          "output_type": "stream",
          "name": "stderr",
          "text": [
            "/usr/local/lib/python3.7/dist-packages/ipykernel_launcher.py:2: SettingWithCopyWarning: \n",
            "A value is trying to be set on a copy of a slice from a DataFrame.\n",
            "Try using .loc[row_indexer,col_indexer] = value instead\n",
            "\n",
            "See the caveats in the documentation: https://pandas.pydata.org/pandas-docs/stable/user_guide/indexing.html#returning-a-view-versus-a-copy\n",
            "  \n"
          ]
        },
        {
          "output_type": "execute_result",
          "data": {
            "text/plain": [
              "      Month  Day  Hour  Day of Week  Occupancy  KITS ID\n",
              "3360     12   31     0            0      1.000       15\n",
              "3361     12   31     1            0      0.375       15\n",
              "3362     12   31     2            0      0.000       15\n",
              "3363     12   31     3            0      0.000       15\n",
              "3364     12   31     4            0      0.000       15\n",
              "3365     12   31     5            0      0.000       15\n",
              "3366     12   31     6            0      0.000       15\n",
              "3367     12   31     7            0      0.125       15\n",
              "3368     12   31     8            0      0.250       15\n",
              "3369     12   31     9            0      1.000       15\n",
              "3370     12   31    10            0      2.250       15\n",
              "3371     12   31    11            0      4.000       15\n",
              "3372     12   31    12            0      4.625       15\n",
              "3373     12   31    13            0      6.250       15\n",
              "3374     12   31    14            0      5.125       15\n",
              "3375     12   31    15            0      4.500       15\n",
              "3376     12   31    16            0      5.250       15\n",
              "3377     12   31    17            0      5.250       15\n",
              "3378     12   31    18            0      5.000       15\n",
              "3379     12   31    19            0      5.500       15\n",
              "3380     12   31    20            0      4.875       15\n",
              "3381     12   31    21            0      4.875       15\n",
              "3382     12   31    22            0      4.000       15\n",
              "3383     12   31    23            0      2.875       15"
            ],
            "text/html": [
              "\n",
              "  <div id=\"df-1021dadc-4e41-494e-8d11-294a7b90a7b8\">\n",
              "    <div class=\"colab-df-container\">\n",
              "      <div>\n",
              "<style scoped>\n",
              "    .dataframe tbody tr th:only-of-type {\n",
              "        vertical-align: middle;\n",
              "    }\n",
              "\n",
              "    .dataframe tbody tr th {\n",
              "        vertical-align: top;\n",
              "    }\n",
              "\n",
              "    .dataframe thead th {\n",
              "        text-align: right;\n",
              "    }\n",
              "</style>\n",
              "<table border=\"1\" class=\"dataframe\">\n",
              "  <thead>\n",
              "    <tr style=\"text-align: right;\">\n",
              "      <th></th>\n",
              "      <th>Month</th>\n",
              "      <th>Day</th>\n",
              "      <th>Hour</th>\n",
              "      <th>Day of Week</th>\n",
              "      <th>Occupancy</th>\n",
              "      <th>KITS ID</th>\n",
              "    </tr>\n",
              "  </thead>\n",
              "  <tbody>\n",
              "    <tr>\n",
              "      <th>3360</th>\n",
              "      <td>12</td>\n",
              "      <td>31</td>\n",
              "      <td>0</td>\n",
              "      <td>0</td>\n",
              "      <td>1.000</td>\n",
              "      <td>15</td>\n",
              "    </tr>\n",
              "    <tr>\n",
              "      <th>3361</th>\n",
              "      <td>12</td>\n",
              "      <td>31</td>\n",
              "      <td>1</td>\n",
              "      <td>0</td>\n",
              "      <td>0.375</td>\n",
              "      <td>15</td>\n",
              "    </tr>\n",
              "    <tr>\n",
              "      <th>3362</th>\n",
              "      <td>12</td>\n",
              "      <td>31</td>\n",
              "      <td>2</td>\n",
              "      <td>0</td>\n",
              "      <td>0.000</td>\n",
              "      <td>15</td>\n",
              "    </tr>\n",
              "    <tr>\n",
              "      <th>3363</th>\n",
              "      <td>12</td>\n",
              "      <td>31</td>\n",
              "      <td>3</td>\n",
              "      <td>0</td>\n",
              "      <td>0.000</td>\n",
              "      <td>15</td>\n",
              "    </tr>\n",
              "    <tr>\n",
              "      <th>3364</th>\n",
              "      <td>12</td>\n",
              "      <td>31</td>\n",
              "      <td>4</td>\n",
              "      <td>0</td>\n",
              "      <td>0.000</td>\n",
              "      <td>15</td>\n",
              "    </tr>\n",
              "    <tr>\n",
              "      <th>3365</th>\n",
              "      <td>12</td>\n",
              "      <td>31</td>\n",
              "      <td>5</td>\n",
              "      <td>0</td>\n",
              "      <td>0.000</td>\n",
              "      <td>15</td>\n",
              "    </tr>\n",
              "    <tr>\n",
              "      <th>3366</th>\n",
              "      <td>12</td>\n",
              "      <td>31</td>\n",
              "      <td>6</td>\n",
              "      <td>0</td>\n",
              "      <td>0.000</td>\n",
              "      <td>15</td>\n",
              "    </tr>\n",
              "    <tr>\n",
              "      <th>3367</th>\n",
              "      <td>12</td>\n",
              "      <td>31</td>\n",
              "      <td>7</td>\n",
              "      <td>0</td>\n",
              "      <td>0.125</td>\n",
              "      <td>15</td>\n",
              "    </tr>\n",
              "    <tr>\n",
              "      <th>3368</th>\n",
              "      <td>12</td>\n",
              "      <td>31</td>\n",
              "      <td>8</td>\n",
              "      <td>0</td>\n",
              "      <td>0.250</td>\n",
              "      <td>15</td>\n",
              "    </tr>\n",
              "    <tr>\n",
              "      <th>3369</th>\n",
              "      <td>12</td>\n",
              "      <td>31</td>\n",
              "      <td>9</td>\n",
              "      <td>0</td>\n",
              "      <td>1.000</td>\n",
              "      <td>15</td>\n",
              "    </tr>\n",
              "    <tr>\n",
              "      <th>3370</th>\n",
              "      <td>12</td>\n",
              "      <td>31</td>\n",
              "      <td>10</td>\n",
              "      <td>0</td>\n",
              "      <td>2.250</td>\n",
              "      <td>15</td>\n",
              "    </tr>\n",
              "    <tr>\n",
              "      <th>3371</th>\n",
              "      <td>12</td>\n",
              "      <td>31</td>\n",
              "      <td>11</td>\n",
              "      <td>0</td>\n",
              "      <td>4.000</td>\n",
              "      <td>15</td>\n",
              "    </tr>\n",
              "    <tr>\n",
              "      <th>3372</th>\n",
              "      <td>12</td>\n",
              "      <td>31</td>\n",
              "      <td>12</td>\n",
              "      <td>0</td>\n",
              "      <td>4.625</td>\n",
              "      <td>15</td>\n",
              "    </tr>\n",
              "    <tr>\n",
              "      <th>3373</th>\n",
              "      <td>12</td>\n",
              "      <td>31</td>\n",
              "      <td>13</td>\n",
              "      <td>0</td>\n",
              "      <td>6.250</td>\n",
              "      <td>15</td>\n",
              "    </tr>\n",
              "    <tr>\n",
              "      <th>3374</th>\n",
              "      <td>12</td>\n",
              "      <td>31</td>\n",
              "      <td>14</td>\n",
              "      <td>0</td>\n",
              "      <td>5.125</td>\n",
              "      <td>15</td>\n",
              "    </tr>\n",
              "    <tr>\n",
              "      <th>3375</th>\n",
              "      <td>12</td>\n",
              "      <td>31</td>\n",
              "      <td>15</td>\n",
              "      <td>0</td>\n",
              "      <td>4.500</td>\n",
              "      <td>15</td>\n",
              "    </tr>\n",
              "    <tr>\n",
              "      <th>3376</th>\n",
              "      <td>12</td>\n",
              "      <td>31</td>\n",
              "      <td>16</td>\n",
              "      <td>0</td>\n",
              "      <td>5.250</td>\n",
              "      <td>15</td>\n",
              "    </tr>\n",
              "    <tr>\n",
              "      <th>3377</th>\n",
              "      <td>12</td>\n",
              "      <td>31</td>\n",
              "      <td>17</td>\n",
              "      <td>0</td>\n",
              "      <td>5.250</td>\n",
              "      <td>15</td>\n",
              "    </tr>\n",
              "    <tr>\n",
              "      <th>3378</th>\n",
              "      <td>12</td>\n",
              "      <td>31</td>\n",
              "      <td>18</td>\n",
              "      <td>0</td>\n",
              "      <td>5.000</td>\n",
              "      <td>15</td>\n",
              "    </tr>\n",
              "    <tr>\n",
              "      <th>3379</th>\n",
              "      <td>12</td>\n",
              "      <td>31</td>\n",
              "      <td>19</td>\n",
              "      <td>0</td>\n",
              "      <td>5.500</td>\n",
              "      <td>15</td>\n",
              "    </tr>\n",
              "    <tr>\n",
              "      <th>3380</th>\n",
              "      <td>12</td>\n",
              "      <td>31</td>\n",
              "      <td>20</td>\n",
              "      <td>0</td>\n",
              "      <td>4.875</td>\n",
              "      <td>15</td>\n",
              "    </tr>\n",
              "    <tr>\n",
              "      <th>3381</th>\n",
              "      <td>12</td>\n",
              "      <td>31</td>\n",
              "      <td>21</td>\n",
              "      <td>0</td>\n",
              "      <td>4.875</td>\n",
              "      <td>15</td>\n",
              "    </tr>\n",
              "    <tr>\n",
              "      <th>3382</th>\n",
              "      <td>12</td>\n",
              "      <td>31</td>\n",
              "      <td>22</td>\n",
              "      <td>0</td>\n",
              "      <td>4.000</td>\n",
              "      <td>15</td>\n",
              "    </tr>\n",
              "    <tr>\n",
              "      <th>3383</th>\n",
              "      <td>12</td>\n",
              "      <td>31</td>\n",
              "      <td>23</td>\n",
              "      <td>0</td>\n",
              "      <td>2.875</td>\n",
              "      <td>15</td>\n",
              "    </tr>\n",
              "  </tbody>\n",
              "</table>\n",
              "</div>\n",
              "      <button class=\"colab-df-convert\" onclick=\"convertToInteractive('df-1021dadc-4e41-494e-8d11-294a7b90a7b8')\"\n",
              "              title=\"Convert this dataframe to an interactive table.\"\n",
              "              style=\"display:none;\">\n",
              "        \n",
              "  <svg xmlns=\"http://www.w3.org/2000/svg\" height=\"24px\"viewBox=\"0 0 24 24\"\n",
              "       width=\"24px\">\n",
              "    <path d=\"M0 0h24v24H0V0z\" fill=\"none\"/>\n",
              "    <path d=\"M18.56 5.44l.94 2.06.94-2.06 2.06-.94-2.06-.94-.94-2.06-.94 2.06-2.06.94zm-11 1L8.5 8.5l.94-2.06 2.06-.94-2.06-.94L8.5 2.5l-.94 2.06-2.06.94zm10 10l.94 2.06.94-2.06 2.06-.94-2.06-.94-.94-2.06-.94 2.06-2.06.94z\"/><path d=\"M17.41 7.96l-1.37-1.37c-.4-.4-.92-.59-1.43-.59-.52 0-1.04.2-1.43.59L10.3 9.45l-7.72 7.72c-.78.78-.78 2.05 0 2.83L4 21.41c.39.39.9.59 1.41.59.51 0 1.02-.2 1.41-.59l7.78-7.78 2.81-2.81c.8-.78.8-2.07 0-2.86zM5.41 20L4 18.59l7.72-7.72 1.47 1.35L5.41 20z\"/>\n",
              "  </svg>\n",
              "      </button>\n",
              "      \n",
              "  <style>\n",
              "    .colab-df-container {\n",
              "      display:flex;\n",
              "      flex-wrap:wrap;\n",
              "      gap: 12px;\n",
              "    }\n",
              "\n",
              "    .colab-df-convert {\n",
              "      background-color: #E8F0FE;\n",
              "      border: none;\n",
              "      border-radius: 50%;\n",
              "      cursor: pointer;\n",
              "      display: none;\n",
              "      fill: #1967D2;\n",
              "      height: 32px;\n",
              "      padding: 0 0 0 0;\n",
              "      width: 32px;\n",
              "    }\n",
              "\n",
              "    .colab-df-convert:hover {\n",
              "      background-color: #E2EBFA;\n",
              "      box-shadow: 0px 1px 2px rgba(60, 64, 67, 0.3), 0px 1px 3px 1px rgba(60, 64, 67, 0.15);\n",
              "      fill: #174EA6;\n",
              "    }\n",
              "\n",
              "    [theme=dark] .colab-df-convert {\n",
              "      background-color: #3B4455;\n",
              "      fill: #D2E3FC;\n",
              "    }\n",
              "\n",
              "    [theme=dark] .colab-df-convert:hover {\n",
              "      background-color: #434B5C;\n",
              "      box-shadow: 0px 1px 3px 1px rgba(0, 0, 0, 0.15);\n",
              "      filter: drop-shadow(0px 1px 2px rgba(0, 0, 0, 0.3));\n",
              "      fill: #FFFFFF;\n",
              "    }\n",
              "  </style>\n",
              "\n",
              "      <script>\n",
              "        const buttonEl =\n",
              "          document.querySelector('#df-1021dadc-4e41-494e-8d11-294a7b90a7b8 button.colab-df-convert');\n",
              "        buttonEl.style.display =\n",
              "          google.colab.kernel.accessAllowed ? 'block' : 'none';\n",
              "\n",
              "        async function convertToInteractive(key) {\n",
              "          const element = document.querySelector('#df-1021dadc-4e41-494e-8d11-294a7b90a7b8');\n",
              "          const dataTable =\n",
              "            await google.colab.kernel.invokeFunction('convertToInteractive',\n",
              "                                                     [key], {});\n",
              "          if (!dataTable) return;\n",
              "\n",
              "          const docLinkHtml = 'Like what you see? Visit the ' +\n",
              "            '<a target=\"_blank\" href=https://colab.research.google.com/notebooks/data_table.ipynb>data table notebook</a>'\n",
              "            + ' to learn more about interactive tables.';\n",
              "          element.innerHTML = '';\n",
              "          dataTable['output_type'] = 'display_data';\n",
              "          await google.colab.output.renderOutput(dataTable, element);\n",
              "          const docLink = document.createElement('div');\n",
              "          docLink.innerHTML = docLinkHtml;\n",
              "          element.appendChild(docLink);\n",
              "        }\n",
              "      </script>\n",
              "    </div>\n",
              "  </div>\n",
              "  "
            ]
          },
          "metadata": {},
          "execution_count": 26
        }
      ]
    },
    {
      "cell_type": "code",
      "source": [
        "V= dataset[-29:]\n",
        "V\n",
        "V1 = dataset[-24:,4]\n",
        "V1"
      ],
      "metadata": {
        "colab": {
          "base_uri": "https://localhost:8080/"
        },
        "id": "yCYEXy6zNW9L",
        "outputId": "23567e1e-8fb7-4524-a75d-c5fa95992227"
      },
      "execution_count": null,
      "outputs": [
        {
          "output_type": "execute_result",
          "data": {
            "text/plain": [
              "array([[12.        , 30.        , 19.        ,  0.        ,  7.        ],\n",
              "       [12.        , 30.        , 20.        ,  0.        ,  3.        ],\n",
              "       [12.        , 30.        , 21.        ,  0.        ,  2.        ],\n",
              "       [12.        , 30.        , 22.        ,  0.        ,  1.375     ],\n",
              "       [12.        , 30.        , 23.        ,  0.        ,  0.875     ],\n",
              "       [12.        , 31.        ,  0.        ,  0.        ,  1.60340869],\n",
              "       [12.        , 31.        ,  1.        ,  0.        ,  1.27668095],\n",
              "       [12.        , 31.        ,  2.        ,  0.        ,  0.28711474],\n",
              "       [12.        , 31.        ,  3.        ,  0.        ,  0.        ],\n",
              "       [12.        , 31.        ,  4.        ,  0.        ,  0.        ],\n",
              "       [12.        , 31.        ,  5.        ,  0.        ,  0.        ],\n",
              "       [12.        , 31.        ,  6.        ,  0.        ,  0.        ],\n",
              "       [12.        , 31.        ,  7.        ,  0.        ,  0.46381259],\n",
              "       [12.        , 31.        ,  8.        ,  0.        ,  1.59564066],\n",
              "       [12.        , 31.        ,  9.        ,  0.        ,  2.45243692],\n",
              "       [12.        , 31.        , 10.        ,  0.        ,  3.51366544],\n",
              "       [12.        , 31.        , 11.        ,  0.        ,  4.70450306],\n",
              "       [12.        , 31.        , 12.        ,  0.        ,  5.60774803],\n",
              "       [12.        , 31.        , 13.        ,  0.        ,  6.0112648 ],\n",
              "       [12.        , 31.        , 14.        ,  0.        ,  5.99984789],\n",
              "       [12.        , 31.        , 15.        ,  0.        ,  5.70369482],\n",
              "       [12.        , 31.        , 16.        ,  0.        ,  5.42442179],\n",
              "       [12.        , 31.        , 17.        ,  0.        ,  5.06975746],\n",
              "       [12.        , 31.        , 18.        ,  0.        ,  4.67296553],\n",
              "       [12.        , 31.        , 19.        ,  0.        ,  4.25639772],\n",
              "       [12.        , 31.        , 20.        ,  0.        ,  3.83362484],\n",
              "       [12.        , 31.        , 21.        ,  0.        ,  3.42171788],\n",
              "       [12.        , 31.        , 22.        ,  0.        ,  3.00106812],\n",
              "       [12.        , 31.        , 23.        ,  0.        ,  2.57558393]])"
            ]
          },
          "metadata": {},
          "execution_count": 45
        },
        {
          "output_type": "execute_result",
          "data": {
            "text/plain": [
              "array([1.60340869, 1.27668095, 0.28711474, 0.        , 0.        ,\n",
              "       0.        , 0.        , 0.46381259, 1.59564066, 2.45243692,\n",
              "       3.51366544, 4.70450306, 5.60774803, 6.0112648 , 5.99984789,\n",
              "       5.70369482, 5.42442179, 5.06975746, 4.67296553, 4.25639772,\n",
              "       3.83362484, 3.42171788, 3.00106812, 2.57558393])"
            ]
          },
          "metadata": {},
          "execution_count": 45
        }
      ]
    },
    {
      "cell_type": "code",
      "source": [
        "species = np.array(V1)\n",
        "#V = V[0:5]\n",
        "pred = []\n",
        "for i in range(0, 24):  \n",
        "  PRED = V[i:5+i]\n",
        "  PRED = PRED.reshape((1,PRED.shape[0], PRED.shape[1]))\n",
        "  #PRED.shape\n",
        "  ppp = model.predict(PRED)\n",
        "  ppp\n",
        "  pred.append(ppp[0])\n",
        "  print('/n')\n",
        "  #V[0:4] = V[1:5]\n",
        "  #V[4] = ppp\n",
        "  #V\n",
        "  V[5+i][4] = ppp\n",
        "#V\n",
        "\n",
        "predictions = np.array(pred)\n",
        "#print(\"\\nPREDICTIONS\\n\", predictions)\n",
        "lenght = len(predictions)\n",
        "pred = np.array(predictions.reshape(lenght))\n",
        "\n",
        "pred\n",
        "species\n",
        "metrics_ (species, pred)\n",
        "#r_sqrt (species, pred)\n",
        "ver = abs(pred- species) #\n",
        "\n",
        "count = 0\n",
        "for i in ver:\n",
        "    if i <= 3:#подкорректировать под значения\n",
        "        count = count + 1\n",
        "\n",
        "print(count, lenght)\n",
        "print(count / lenght)"
      ],
      "metadata": {
        "colab": {
          "base_uri": "https://localhost:8080/"
        },
        "id": "44L_YqqTCpkH",
        "outputId": "a8b95161-d202-4888-b066-2c6d40cd37a7"
      },
      "execution_count": null,
      "outputs": [
        {
          "output_type": "execute_result",
          "data": {
            "text/plain": [
              "array([[1.1535087]], dtype=float32)"
            ]
          },
          "metadata": {},
          "execution_count": 61
        },
        {
          "output_type": "stream",
          "name": "stdout",
          "text": [
            "/n\n"
          ]
        },
        {
          "output_type": "execute_result",
          "data": {
            "text/plain": [
              "array([[0.8201583]], dtype=float32)"
            ]
          },
          "metadata": {},
          "execution_count": 61
        },
        {
          "output_type": "stream",
          "name": "stdout",
          "text": [
            "/n\n"
          ]
        },
        {
          "output_type": "execute_result",
          "data": {
            "text/plain": [
              "array([[0.29215717]], dtype=float32)"
            ]
          },
          "metadata": {},
          "execution_count": 61
        },
        {
          "output_type": "stream",
          "name": "stdout",
          "text": [
            "/n\n"
          ]
        },
        {
          "output_type": "execute_result",
          "data": {
            "text/plain": [
              "array([[0.]], dtype=float32)"
            ]
          },
          "metadata": {},
          "execution_count": 61
        },
        {
          "output_type": "stream",
          "name": "stdout",
          "text": [
            "/n\n"
          ]
        },
        {
          "output_type": "execute_result",
          "data": {
            "text/plain": [
              "array([[0.]], dtype=float32)"
            ]
          },
          "metadata": {},
          "execution_count": 61
        },
        {
          "output_type": "stream",
          "name": "stdout",
          "text": [
            "/n\n"
          ]
        },
        {
          "output_type": "execute_result",
          "data": {
            "text/plain": [
              "array([[0.]], dtype=float32)"
            ]
          },
          "metadata": {},
          "execution_count": 61
        },
        {
          "output_type": "stream",
          "name": "stdout",
          "text": [
            "/n\n"
          ]
        },
        {
          "output_type": "execute_result",
          "data": {
            "text/plain": [
              "array([[0.]], dtype=float32)"
            ]
          },
          "metadata": {},
          "execution_count": 61
        },
        {
          "output_type": "stream",
          "name": "stdout",
          "text": [
            "/n\n"
          ]
        },
        {
          "output_type": "execute_result",
          "data": {
            "text/plain": [
              "array([[0.03157105]], dtype=float32)"
            ]
          },
          "metadata": {},
          "execution_count": 61
        },
        {
          "output_type": "stream",
          "name": "stdout",
          "text": [
            "/n\n"
          ]
        },
        {
          "output_type": "execute_result",
          "data": {
            "text/plain": [
              "array([[0.6143397]], dtype=float32)"
            ]
          },
          "metadata": {},
          "execution_count": 61
        },
        {
          "output_type": "stream",
          "name": "stdout",
          "text": [
            "/n\n"
          ]
        },
        {
          "output_type": "execute_result",
          "data": {
            "text/plain": [
              "array([[1.5190387]], dtype=float32)"
            ]
          },
          "metadata": {},
          "execution_count": 61
        },
        {
          "output_type": "stream",
          "name": "stdout",
          "text": [
            "/n\n"
          ]
        },
        {
          "output_type": "execute_result",
          "data": {
            "text/plain": [
              "array([[2.482867]], dtype=float32)"
            ]
          },
          "metadata": {},
          "execution_count": 61
        },
        {
          "output_type": "stream",
          "name": "stdout",
          "text": [
            "/n\n"
          ]
        },
        {
          "output_type": "execute_result",
          "data": {
            "text/plain": [
              "array([[3.6088488]], dtype=float32)"
            ]
          },
          "metadata": {},
          "execution_count": 61
        },
        {
          "output_type": "stream",
          "name": "stdout",
          "text": [
            "/n\n"
          ]
        },
        {
          "output_type": "execute_result",
          "data": {
            "text/plain": [
              "array([[4.9951177]], dtype=float32)"
            ]
          },
          "metadata": {},
          "execution_count": 61
        },
        {
          "output_type": "stream",
          "name": "stdout",
          "text": [
            "/n\n"
          ]
        },
        {
          "output_type": "execute_result",
          "data": {
            "text/plain": [
              "array([[6.5203047]], dtype=float32)"
            ]
          },
          "metadata": {},
          "execution_count": 61
        },
        {
          "output_type": "stream",
          "name": "stdout",
          "text": [
            "/n\n"
          ]
        },
        {
          "output_type": "execute_result",
          "data": {
            "text/plain": [
              "array([[7.7245016]], dtype=float32)"
            ]
          },
          "metadata": {},
          "execution_count": 61
        },
        {
          "output_type": "stream",
          "name": "stdout",
          "text": [
            "/n\n"
          ]
        },
        {
          "output_type": "execute_result",
          "data": {
            "text/plain": [
              "array([[8.176138]], dtype=float32)"
            ]
          },
          "metadata": {},
          "execution_count": 61
        },
        {
          "output_type": "stream",
          "name": "stdout",
          "text": [
            "/n\n"
          ]
        },
        {
          "output_type": "execute_result",
          "data": {
            "text/plain": [
              "array([[7.3284774]], dtype=float32)"
            ]
          },
          "metadata": {},
          "execution_count": 61
        },
        {
          "output_type": "stream",
          "name": "stdout",
          "text": [
            "/n\n"
          ]
        },
        {
          "output_type": "execute_result",
          "data": {
            "text/plain": [
              "array([[6.1193686]], dtype=float32)"
            ]
          },
          "metadata": {},
          "execution_count": 61
        },
        {
          "output_type": "stream",
          "name": "stdout",
          "text": [
            "/n\n"
          ]
        },
        {
          "output_type": "execute_result",
          "data": {
            "text/plain": [
              "array([[5.14265]], dtype=float32)"
            ]
          },
          "metadata": {},
          "execution_count": 61
        },
        {
          "output_type": "stream",
          "name": "stdout",
          "text": [
            "/n\n"
          ]
        },
        {
          "output_type": "execute_result",
          "data": {
            "text/plain": [
              "array([[4.348609]], dtype=float32)"
            ]
          },
          "metadata": {},
          "execution_count": 61
        },
        {
          "output_type": "stream",
          "name": "stdout",
          "text": [
            "/n\n"
          ]
        },
        {
          "output_type": "execute_result",
          "data": {
            "text/plain": [
              "array([[3.5704625]], dtype=float32)"
            ]
          },
          "metadata": {},
          "execution_count": 61
        },
        {
          "output_type": "stream",
          "name": "stdout",
          "text": [
            "/n\n"
          ]
        },
        {
          "output_type": "execute_result",
          "data": {
            "text/plain": [
              "array([[2.7412915]], dtype=float32)"
            ]
          },
          "metadata": {},
          "execution_count": 61
        },
        {
          "output_type": "stream",
          "name": "stdout",
          "text": [
            "/n\n"
          ]
        },
        {
          "output_type": "execute_result",
          "data": {
            "text/plain": [
              "array([[1.8496618]], dtype=float32)"
            ]
          },
          "metadata": {},
          "execution_count": 61
        },
        {
          "output_type": "stream",
          "name": "stdout",
          "text": [
            "/n\n"
          ]
        },
        {
          "output_type": "execute_result",
          "data": {
            "text/plain": [
              "array([[1.2459216]], dtype=float32)"
            ]
          },
          "metadata": {},
          "execution_count": 61
        },
        {
          "output_type": "stream",
          "name": "stdout",
          "text": [
            "/n\n"
          ]
        },
        {
          "output_type": "execute_result",
          "data": {
            "text/plain": [
              "array([1.1535087 , 0.8201583 , 0.29215717, 0.        , 0.        ,\n",
              "       0.        , 0.        , 0.03157105, 0.6143397 , 1.5190387 ,\n",
              "       2.482867  , 3.6088488 , 4.9951177 , 6.5203047 , 7.7245016 ,\n",
              "       8.176138  , 7.3284774 , 6.1193686 , 5.14265   , 4.348609  ,\n",
              "       3.5704625 , 2.7412915 , 1.8496618 , 1.2459216 ], dtype=float32)"
            ]
          },
          "metadata": {},
          "execution_count": 61
        },
        {
          "output_type": "execute_result",
          "data": {
            "text/plain": [
              "array([1.25889683, 0.68889648, 0.32598528, 0.        , 0.        ,\n",
              "       0.        , 0.        , 0.13241968, 0.56898576, 1.35573137,\n",
              "       2.31928444, 3.50805092, 4.80160046, 5.84879541, 6.33214426,\n",
              "       6.04189539, 5.18167353, 4.36223698, 3.73920012, 3.17595363,\n",
              "       2.55085158, 1.88321602, 1.29885089, 1.21777225])"
            ]
          },
          "metadata": {},
          "execution_count": 61
        },
        {
          "output_type": "stream",
          "name": "stdout",
          "text": [
            "MSE: 0.8420198452450111\n",
            "MAE: 0.5905284279336532\n",
            "Determination coefficient: 0.8086667202557889\n",
            "24 24\n",
            "1.0\n"
          ]
        }
      ]
    },
    {
      "cell_type": "code",
      "source": [
        ""
      ],
      "metadata": {
        "id": "EjokkzezHBD9"
      },
      "execution_count": null,
      "outputs": []
    },
    {
      "cell_type": "code",
      "source": [
        "metrics_(species, pred)"
      ],
      "metadata": {
        "colab": {
          "base_uri": "https://localhost:8080/"
        },
        "id": "XWWEAyNdFzts",
        "outputId": "a40f975b-4526-4109-bbaa-253225818567"
      },
      "execution_count": null,
      "outputs": [
        {
          "output_type": "stream",
          "name": "stdout",
          "text": [
            "MSE: 0.8420198452450111\n",
            "MAE: 0.5905284279336532\n",
            "Determination coefficient: 0.8086667202557889\n"
          ]
        }
      ]
    },
    {
      "cell_type": "code",
      "source": [
        "count = 0\n",
        "for i in ver:\n",
        "    if i <= 2:#подкорректировать под значения\n",
        "        count = count + 1\n",
        "\n",
        "print(count, lenght)\n",
        "print(count / lenght)"
      ],
      "metadata": {
        "colab": {
          "base_uri": "https://localhost:8080/"
        },
        "id": "yIca_JVxEH8T",
        "outputId": "fc66924e-84bc-4bda-9bcb-792f84cf364d"
      },
      "execution_count": null,
      "outputs": [
        {
          "output_type": "stream",
          "name": "stdout",
          "text": [
            "22 24\n",
            "0.9166666666666666\n"
          ]
        }
      ]
    },
    {
      "cell_type": "code",
      "source": [
        "PRED = np.array([[[12.        , 31.        ,  7.        ,  0.        ,  0.26010269],\n",
        "       [12.        , 31.        ,  8.        ,  0.        ,  0.67761683],\n",
        "       [12.        , 31.        ,  9.        ,  0.        ,  1.54311645],\n",
        "       [12.        , 31.        , 10.        ,  0.        ,  2.58543634],\n",
        "       [12.        , 31.        , 11.        ,  0.        ,  3.64745331]]])\n",
        "     \n",
        "#нормируем\n",
        "#PRED.shape\n",
        "ppp = model.predict(PRED)\n",
        "ppp"
      ],
      "metadata": {
        "colab": {
          "base_uri": "https://localhost:8080/"
        },
        "id": "YHoBZSx61b_Z",
        "outputId": "d094d93f-b1bb-41d8-de0d-c6f13cdb822c"
      },
      "execution_count": null,
      "outputs": [
        {
          "output_type": "execute_result",
          "data": {
            "text/plain": [
              "array([[4.590257]], dtype=float32)"
            ]
          },
          "metadata": {},
          "execution_count": 22
        }
      ]
    },
    {
      "cell_type": "code",
      "source": [
        "from sklearn.ensemble import RandomForestClassifier\n",
        "from sklearn.model_selection import train_test_split, ShuffleSplit\n",
        "from sklearn.preprocessing import LabelEncoder\n",
        "from sklearn.ensemble import RandomForestRegressor\n",
        "from sklearn.tree import DecisionTreeRegressor"
      ],
      "metadata": {
        "id": "7KvbpVMafNNN"
      },
      "execution_count": null,
      "outputs": []
    },
    {
      "cell_type": "markdown",
      "source": [
        "Случайный лес"
      ],
      "metadata": {
        "id": "2Dy_liIfHuIc"
      }
    },
    {
      "cell_type": "code",
      "source": [
        "# Создаём модель леса из сотни деревьев\n",
        "model = RandomForestRegressor(max_depth=4, random_state=42)\n",
        "train_x, test_x, train_y, test_y = train_test_split(X, Y, test_size=0.3, random_state=42)\n",
        "    # Обучаем на тренировочных данных\n",
        "model.fit(train_x, train_y)\n",
        "    # Действующая классификация\n",
        "rf_predictions = model.predict(test_x)\n",
        "    # Вероятности для каждого класса\n",
        "    #rf_probs = model.predict_proba(test_x)[:, 1]\n",
        "\n",
        "species = np.array(test_y)\n",
        "predictions = np.array(rf_predictions)\n",
        "\n",
        "metrics_ (species, predictions)\n",
        "\n",
        "#predictions= predictions*(max-min) + min\n",
        "#species = species*(max-min) + min\n",
        "\n",
        "metrics_ (species, predictions)\n",
        "\n",
        "ver = abs(predictions - species)\n",
        "lenght = len(ver)\n",
        "\n",
        "count = 0\n",
        "for i in ver:\n",
        "    if i <= 3:\n",
        "        count = count + 1\n",
        "\n",
        "print(count, lenght)\n",
        "print(count / lenght)"
      ],
      "metadata": {
        "colab": {
          "base_uri": "https://localhost:8080/"
        },
        "id": "qTAk6HD1eRBc",
        "outputId": "5cec7620-10b2-4ed6-89af-85b6752ed1b5"
      },
      "execution_count": null,
      "outputs": [
        {
          "output_type": "execute_result",
          "data": {
            "text/plain": [
              "RandomForestRegressor(max_depth=4, random_state=42)"
            ]
          },
          "metadata": {},
          "execution_count": 59
        },
        {
          "output_type": "stream",
          "name": "stdout",
          "text": [
            "MSE: 10.556526998079327\n",
            "MAE: 1.607358299157049\n",
            "Determination coefficient: 0.6116276985905902\n",
            "MSE: 10.556526998079327\n",
            "MAE: 1.607358299157049\n",
            "Determination coefficient: 0.6116276985905902\n",
            "883 1030\n",
            "0.8572815533980582\n"
          ]
        }
      ]
    },
    {
      "cell_type": "markdown",
      "source": [
        "MLP регрессия"
      ],
      "metadata": {
        "id": "dby-4eamHypY"
      }
    },
    {
      "cell_type": "code",
      "source": [
        "from sklearn.neural_network import MLPRegressor\n",
        "#model = LinearRegression()\n",
        "model = MLPRegressor()\n",
        "train_x, test_x, train_y, test_y = train_test_split(X, Y, test_size=0.3, random_state=42)\n",
        "# Обучаем на тренировочных данных\n",
        "model.fit(train_x, train_y)\n",
        "# Действующая классификация\n",
        "rf_predictions = model.predict(test_x)\n",
        "\n",
        "species = np.array(test_y)\n",
        "predictions = np.array(rf_predictions)\n",
        "\n",
        "metrics_ (species, predictions)\n",
        "\n",
        "#predictions= predictions*(max-min) + min\n",
        "#species = species*(max-min) + min\n",
        "\n",
        "metrics_ (species, predictions)\n",
        "\n",
        "ver = abs(predictions - species)\n",
        "lenght = len(ver)\n",
        "\n",
        "count = 0\n",
        "for i in ver:\n",
        "    if i <= 3:\n",
        "        count = count + 1\n",
        "\n",
        "print(count, lenght)\n",
        "print(count / lenght)"
      ],
      "metadata": {
        "colab": {
          "base_uri": "https://localhost:8080/"
        },
        "id": "mz1HI4E5gMwf",
        "outputId": "c1576d04-bf8e-44d8-fa5c-57d3dba1a876"
      },
      "execution_count": null,
      "outputs": [
        {
          "output_type": "stream",
          "name": "stderr",
          "text": [
            "/usr/local/lib/python3.7/dist-packages/sklearn/neural_network/_multilayer_perceptron.py:696: ConvergenceWarning: Stochastic Optimizer: Maximum iterations (200) reached and the optimization hasn't converged yet.\n",
            "  ConvergenceWarning,\n"
          ]
        },
        {
          "output_type": "execute_result",
          "data": {
            "text/plain": [
              "MLPRegressor()"
            ]
          },
          "metadata": {},
          "execution_count": 25
        },
        {
          "output_type": "stream",
          "name": "stdout",
          "text": [
            "\n",
            "Metrics errors\n",
            "MSE: 24.447568987301445\n",
            "MAE: 2.9149809407492815\n",
            "R2: 0.47982757383604235\n",
            "\n",
            "Metrics errors\n",
            "MSE: 24.447568987301445\n",
            "MAE: 2.9149809407492815\n",
            "R2: 0.47982757383604235\n",
            "4823 6912\n",
            "0.6977719907407407\n"
          ]
        }
      ]
    },
    {
      "cell_type": "code",
      "source": [
        "from sklearn.neighbors import KNeighborsRegressor"
      ],
      "metadata": {
        "id": "Lujggy3EhfXu"
      },
      "execution_count": null,
      "outputs": []
    },
    {
      "cell_type": "markdown",
      "source": [
        "К-ближайших соседей"
      ],
      "metadata": {
        "id": "79jEwo8iH-9C"
      }
    },
    {
      "cell_type": "code",
      "source": [
        "model = KNeighborsRegressor(n_neighbors=10)\n",
        "train_x, test_x, train_y, test_y = train_test_split(X, Y, test_size=0.3, random_state=42)\n",
        "# Обучаем на тренировочных данных\n",
        "model.fit(train_x, train_y)\n",
        "# Действующая классификация\n",
        "rf_predictions = model.predict(test_x)\n",
        "# Вероятности для каждого класса\n",
        "#rf_probs = model.predict_proba(test_x)[:, 1]\n",
        "\n",
        "species = np.array(test_y)\n",
        "predictions = np.array(rf_predictions)\n",
        "\n",
        "metrics_ (species, predictions)\n",
        "\n",
        "#predictions= predictions*(max-min) + min\n",
        "#species = species*(max-min) + min\n",
        "\n",
        "metrics_ (species, predictions)\n",
        "\n",
        "ver = abs(predictions - species)\n",
        "lenght = len(ver)\n",
        "\n",
        "count = 0\n",
        "for i in ver:\n",
        "    if i <= 3:\n",
        "        count = count + 1\n",
        "\n",
        "print(count, lenght)\n",
        "print(count / lenght)"
      ],
      "metadata": {
        "colab": {
          "base_uri": "https://localhost:8080/"
        },
        "id": "pUYGt7UShS1F",
        "outputId": "820ad12e-3e2b-4c1a-ef6f-a724c7bff8c1"
      },
      "execution_count": null,
      "outputs": [
        {
          "output_type": "execute_result",
          "data": {
            "text/plain": [
              "KNeighborsRegressor(n_neighbors=10)"
            ]
          },
          "metadata": {},
          "execution_count": 60
        },
        {
          "output_type": "stream",
          "name": "stdout",
          "text": [
            "MSE: 9.4315981268025\n",
            "MAE: 1.5931195099398983\n",
            "Determination coefficient: 0.6530135838101476\n",
            "MSE: 9.4315981268025\n",
            "MAE: 1.5931195099398983\n",
            "Determination coefficient: 0.6530135838101476\n",
            "892 1030\n",
            "0.8660194174757282\n"
          ]
        }
      ]
    }
  ]
}